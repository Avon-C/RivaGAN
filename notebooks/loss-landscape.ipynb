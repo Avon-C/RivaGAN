{
 "cells": [
  {
   "cell_type": "markdown",
   "metadata": {},
   "source": [
    "# Loss Landscape Experiments"
   ]
  },
  {
   "cell_type": "code",
   "execution_count": 1,
   "metadata": {},
   "outputs": [
    {
     "name": "stderr",
     "output_type": "stream",
     "text": [
      "data/hollywood2/train: 100%|██████████| 1633/1633 [00:07<00:00, 211.40it/s]\n",
      "data/hollywood2/val: 100%|██████████| 884/884 [00:04<00:00, 210.85it/s]\n"
     ]
    }
   ],
   "source": [
    "import copy\n",
    "import torch\n",
    "import torch.optim as optim\n",
    "from data import *\n",
    "from model import *\n",
    "\n",
    "data_dim = 4\n",
    "batch_size = 48\n",
    "\n",
    "torch.backends.cudnn.benchmark = True\n",
    "_encoder, _decoder = Encoder(data_dim), Decoder(data_dim)\n",
    "train, val = load_train_val(1, batch_size, \"hollywood2\")\n",
    "\n",
    "def make_encoder_decoder():\n",
    "    \"\"\"\n",
    "    Create a copy of the encoder and decoder with the same initialization.\n",
    "    \"\"\"\n",
    "    encoder, decoder = copy.deepcopy(_encoder), copy.deepcopy(_decoder)\n",
    "    return encoder.cuda(), decoder.cuda()\n",
    "\n",
    "def flatten_weights(models):\n",
    "    \"\"\"\n",
    "    Extracts a flat numpy array of weights from a list of PyTorch models.\n",
    "    \"\"\"\n",
    "    parameters = []\n",
    "    for model in models:\n",
    "        for x in model.parameters():\n",
    "            parameters.append(x.detach().view(-1).cpu())\n",
    "    parameters = torch.cat(parameters, dim=0)\n",
    "    return parameters.numpy()\n",
    "\n",
    "def load_weights(models, weights):\n",
    "    \"\"\"\n",
    "    Loads a flat numpy array of weights into the PyTorch models.\n",
    "    \"\"\"\n",
    "    offset = 0\n",
    "    for model in models:\n",
    "        for x in model.parameters():\n",
    "            x.data.copy_(torch.from_numpy(weights[offset:offset+x.view(-1).size(0)]).view(x.size()))\n",
    "            offset += x.view(-1).size(0)"
   ]
  },
  {
   "cell_type": "code",
   "execution_count": 2,
   "metadata": {},
   "outputs": [],
   "source": [
    "import itertools\n",
    "import numpy as np\n",
    "import torch.nn.functional as F\n",
    "\n",
    "def make_XY(frames, paired=True):\n",
    "    frames = frames.cuda()\n",
    "    data = torch.zeros(frames.size(0), data_dim).random_(0, 2).cuda()\n",
    "    if paired:\n",
    "        frames = torch.cat([frames, frames], dim=0).cuda()\n",
    "        data = torch.cat([data, 1.0 - data], dim=0).cuda()\n",
    "    return frames, data\n",
    "\n",
    "class ModelLogger(object):\n",
    "    \n",
    "    def __init__(self, lr=1e-4, paired=False):\n",
    "        self.losses = []\n",
    "        self.weights = []\n",
    "        self.paired = paired\n",
    "        self.encoder, self.decoder = make_encoder_decoder()\n",
    "        self.optimizer = optim.Adam(itertools.chain(\n",
    "            self.encoder.parameters(), \n",
    "            self.decoder.parameters()\n",
    "        ), lr=lr)\n",
    "    \n",
    "    def step(self, nb_steps=1):\n",
    "        for step in range(nb_steps):\n",
    "            test_loss = []\n",
    "            with torch.no_grad():\n",
    "                for frames in tqdm(val):\n",
    "                    frames, data = make_XY(frames, paired=self.paired)\n",
    "                    wm_frames = self.encoder(frames, data)\n",
    "                    wm_data = self.decoder(wm_frames)\n",
    "                    loss = F.binary_cross_entropy_with_logits(wm_data, data)\n",
    "                    test_loss.append(loss.item())\n",
    "            self.weights.append(flatten_weights([self.encoder, self.decoder]))\n",
    "            self.losses.append(np.mean(test_loss))\n",
    "\n",
    "            for frames in tqdm(train):\n",
    "                frames, data = make_XY(frames, paired=self.paired)\n",
    "                self.optimizer.zero_grad()\n",
    "                wm_frames = self.encoder(frames, data)\n",
    "                wm_data = self.decoder(wm_frames)\n",
    "                loss = F.binary_cross_entropy_with_logits(wm_data, data)\n",
    "                loss.backward()\n",
    "                self.optimizer.step()\n",
    "        return self"
   ]
  },
  {
   "cell_type": "code",
   "execution_count": 3,
   "metadata": {},
   "outputs": [
    {
     "name": "stderr",
     "output_type": "stream",
     "text": [
      "100%|██████████| 19/19 [02:34<00:00, 12.84s/it]\n",
      "100%|██████████| 35/35 [06:27<00:00, 14.68s/it]  \n",
      "100%|██████████| 19/19 [00:50<00:00,  2.04s/it]\n",
      "100%|██████████| 35/35 [04:28<00:00,  7.66s/it]\n",
      "100%|██████████| 19/19 [00:50<00:00,  2.05s/it]\n",
      "100%|██████████| 35/35 [04:28<00:00,  7.66s/it]\n",
      "100%|██████████| 19/19 [00:50<00:00,  2.05s/it]\n",
      "100%|██████████| 35/35 [04:28<00:00,  7.67s/it]\n",
      "100%|██████████| 19/19 [00:50<00:00,  2.05s/it]\n",
      "100%|██████████| 35/35 [04:28<00:00,  7.67s/it]\n",
      "100%|██████████| 19/19 [00:50<00:00,  2.05s/it]\n",
      "100%|██████████| 35/35 [04:28<00:00,  7.66s/it]\n",
      "100%|██████████| 19/19 [00:50<00:00,  2.05s/it]\n",
      "100%|██████████| 35/35 [04:28<00:00,  7.66s/it]\n",
      "100%|██████████| 19/19 [00:50<00:00,  2.05s/it]\n",
      "100%|██████████| 35/35 [04:28<00:00,  7.66s/it]\n",
      "100%|██████████| 19/19 [00:50<00:00,  2.05s/it]\n",
      "100%|██████████| 35/35 [04:28<00:00,  7.66s/it]\n",
      "100%|██████████| 19/19 [00:50<00:00,  2.05s/it]\n",
      "100%|██████████| 35/35 [04:28<00:00,  7.67s/it]\n",
      "100%|██████████| 19/19 [01:27<00:00,  7.09s/it]\n",
      "100%|██████████| 35/35 [03:33<00:00, 10.50s/it]\n",
      "100%|██████████| 19/19 [00:27<00:00,  1.03s/it]\n",
      "100%|██████████| 35/35 [02:18<00:00,  3.83s/it]\n",
      "100%|██████████| 19/19 [00:27<00:00,  1.03s/it]\n",
      "100%|██████████| 35/35 [02:18<00:00,  3.83s/it]\n",
      "100%|██████████| 19/19 [00:27<00:00,  1.03s/it]\n",
      "100%|██████████| 35/35 [02:18<00:00,  3.83s/it]\n",
      "100%|██████████| 19/19 [00:27<00:00,  1.03s/it]\n",
      "100%|██████████| 35/35 [02:18<00:00,  3.83s/it]\n",
      "100%|██████████| 19/19 [00:27<00:00,  1.03s/it]\n",
      "100%|██████████| 35/35 [02:18<00:00,  3.83s/it]\n",
      "100%|██████████| 19/19 [00:27<00:00,  1.03s/it]\n",
      "100%|██████████| 35/35 [02:19<00:00,  3.83s/it]\n",
      "100%|██████████| 19/19 [00:27<00:00,  1.03s/it]\n",
      "100%|██████████| 35/35 [02:18<00:00,  3.83s/it]\n",
      "100%|██████████| 19/19 [00:27<00:00,  1.03s/it]\n",
      "100%|██████████| 35/35 [02:18<00:00,  3.83s/it]\n",
      "100%|██████████| 19/19 [00:27<00:00,  1.03s/it]\n",
      "100%|██████████| 35/35 [02:18<00:00,  3.84s/it]\n"
     ]
    }
   ],
   "source": [
    "loggers = {}\n",
    "loggers[\"paired\"] = ModelLogger(paired=True).step(nb_steps=10)\n",
    "loggers[\"unpaired\"] = ModelLogger(paired=False).step(nb_steps=10)"
   ]
  },
  {
   "cell_type": "code",
   "execution_count": 4,
   "metadata": {
    "scrolled": true
   },
   "outputs": [
    {
     "name": "stderr",
     "output_type": "stream",
     "text": [
      "100%|██████████| 10/10 [01:31<00:00,  9.15s/it]\n",
      "100%|██████████| 10/10 [01:32<00:00,  9.54s/it]\n",
      "100%|██████████| 10/10 [01:31<00:00,  9.13s/it]\n",
      "100%|██████████| 10/10 [01:32<00:00,  9.24s/it]\n",
      "100%|██████████| 10/10 [01:31<00:00,  9.16s/it]\n",
      "100%|██████████| 10/10 [01:32<00:00,  9.19s/it]\n",
      "100%|██████████| 10/10 [01:31<00:00,  9.16s/it]\n",
      "100%|██████████| 10/10 [01:31<00:00,  9.14s/it]\n",
      "100%|██████████| 10/10 [01:32<00:00,  9.24s/it]\n",
      "100%|██████████| 10/10 [01:33<00:00,  9.37s/it]\n"
     ]
    }
   ],
   "source": [
    "import numpy as np\n",
    "from itertools import chain\n",
    "from sklearn.decomposition import IncrementalPCA\n",
    "\n",
    "def extract_principal_components(loggers):\n",
    "    \"\"\"\n",
    "    Compute the principal components along which the gradients vary.\n",
    "    \"\"\"\n",
    "    grads = []\n",
    "    for model in loggers.values():\n",
    "        grads.extend([model.weights[t] - model.weights[-1] for t in range(1, len(model.weights))])\n",
    "    return IncrementalPCA(2, whiten=True).fit(grads)\n",
    "\n",
    "def make_contour_grid(pca, loggers, resolution=10):\n",
    "    \"\"\"\n",
    "    Examine the loss values along the grid in the PCA subspace.\n",
    "    \"\"\"\n",
    "    weights = []\n",
    "    for model in loggers.values():\n",
    "        weights.extend(model.weights)\n",
    "    xy = pca.transform(weights)\n",
    "    x, y = xy[:,0], xy[:,1]\n",
    "    xi = np.linspace(np.min(x), np.max(x), resolution)\n",
    "    yi = np.linspace(np.min(y), np.max(y), resolution)\n",
    "    \n",
    "    X, Y, Z = [], [], []\n",
    "    encoder, decoder = make_encoder_decoder()\n",
    "    for x in xi:\n",
    "        for y in tqdm(yi):\n",
    "            weights = pca.inverse_transform([[x,y]])[0]\n",
    "            load_weights([encoder, decoder], weights)\n",
    "            \n",
    "            test_loss = []\n",
    "            with torch.no_grad():\n",
    "                for frames in val:\n",
    "                    frames, data = make_XY(frames, paired=True)\n",
    "                    wm_frames = encoder(frames, data)\n",
    "                    wm_data = decoder(wm_frames)\n",
    "                    loss = F.binary_cross_entropy_with_logits(wm_data, data)\n",
    "                    test_loss.append(loss.item())\n",
    "                    break\n",
    "            X.append(x)\n",
    "            Y.append(y)\n",
    "            Z.append(np.mean(test_loss))\n",
    "    return X, Y, Z\n",
    "\n",
    "pca = extract_principal_components(loggers)\n",
    "X, Y, Z = make_contour_grid(pca, loggers)"
   ]
  },
  {
   "cell_type": "code",
   "execution_count": 5,
   "metadata": {},
   "outputs": [
    {
     "data": {
      "image/png": "[encoded data removed]",
      "text/plain": [
       "<matplotlib.figure.Figure at 0x7f4d3506b630>"
      ]
     },
     "metadata": {},
     "output_type": "display_data"
    }
   ],
   "source": [
    "%matplotlib inline\n",
    "import matplotlib.pyplot as plt\n",
    "from scipy.interpolate import griddata\n",
    "\n",
    "# Create grid values first.\n",
    "ngridx, ngridy = 100, 100\n",
    "xi = np.linspace(np.min(X), np.max(X), ngridx)\n",
    "yi = np.linspace(np.min(Y), np.max(Y), ngridy)\n",
    "\n",
    "# Perform linear interpolation of the data (x,y)\n",
    "zi = griddata((X, Y), Z, (xi[None,:], yi[:,None]), method='linear', fill_value=np.max(Z))\n",
    "cs = plt.contourf(xi, yi, zi, cmap=\"Greys\")\n",
    "cbar = plt.colorbar(cs)\n",
    "\n",
    "for name, model in loggers.items():\n",
    "    XY = pca.transform(model.weights)\n",
    "    plt.plot(XY[:,0], XY[:,1], label=name, marker=\".\")\n",
    "plt.legend();"
   ]
  },
  {
   "cell_type": "code",
   "execution_count": 6,
   "metadata": {},
   "outputs": [
    {
     "data": {
      "image/png": "[encoded data removed]",
      "text/plain": [
       "<matplotlib.figure.Figure at 0x7f4d35053780>"
      ]
     },
     "metadata": {},
     "output_type": "display_data"
    }
   ],
   "source": [
    "for name, model in loggers.items():\n",
    "    plt.plot(model.losses, label=name)\n",
    "plt.legend();"
   ]
  }
 ],
 "metadata": {
  "kernelspec": {
   "display_name": "Python 3",
   "language": "python",
   "name": "python3"
  },
  "language_info": {
   "codemirror_mode": {
    "name": "ipython",
    "version": 3
   },
   "file_extension": ".py",
   "mimetype": "text/x-python",
   "name": "python",
   "nbconvert_exporter": "python",
   "pygments_lexer": "ipython3",
   "version": "3.6.7"
  }
 },
 "nbformat": 4,
 "nbformat_minor": 2
}
